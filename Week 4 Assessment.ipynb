{
 "cells": [
  {
   "cell_type": "markdown",
   "id": "fc535e2a",
   "metadata": {},
   "source": [
    "# Question and Answers"
   ]
  },
  {
   "cell_type": "code",
   "execution_count": 1,
   "id": "12c8ddcc",
   "metadata": {},
   "outputs": [],
   "source": [
    "import numpy as np"
   ]
  },
  {
   "cell_type": "markdown",
   "id": "be7410da",
   "metadata": {},
   "source": [
    "1. Write a NumPy program to test whether none of the elements of a given array is zero."
   ]
  },
  {
   "cell_type": "code",
   "execution_count": 2,
   "id": "70bea7f8",
   "metadata": {},
   "outputs": [
    {
     "data": {
      "text/plain": [
       "array([2, 3, 1, 0, 6, 7])"
      ]
     },
     "execution_count": 2,
     "metadata": {},
     "output_type": "execute_result"
    }
   ],
   "source": [
    "a = np.array([2,3,1,0,6,7])\n",
    "a"
   ]
  },
  {
   "cell_type": "code",
   "execution_count": 3,
   "id": "740dbdae",
   "metadata": {},
   "outputs": [
    {
     "name": "stdout",
     "output_type": "stream",
     "text": [
      "2  is not zero\n",
      "3  is not zero\n",
      "1  is not zero\n",
      "Zero value found at Index 3\n",
      "6  is not zero\n",
      "7  is not zero\n"
     ]
    }
   ],
   "source": [
    "for index,item in enumerate(a):\n",
    "    if item==0:\n",
    "        print('Zero value found at Index',index)\n",
    "    else:\n",
    "        print(item,\" is not zero\")"
   ]
  },
  {
   "cell_type": "markdown",
   "id": "2489c5fa",
   "metadata": {},
   "source": [
    "2. Write a NumPy program to test whether any of the elements of a given array is non-zero"
   ]
  },
  {
   "cell_type": "code",
   "execution_count": 4,
   "id": "b2bb835e",
   "metadata": {},
   "outputs": [
    {
     "data": {
      "text/plain": [
       "array([0, 0, 1, 0, 6, 0])"
      ]
     },
     "execution_count": 4,
     "metadata": {},
     "output_type": "execute_result"
    }
   ],
   "source": [
    "a = np.array([0,0,1,0,6,0])\n",
    "a"
   ]
  },
  {
   "cell_type": "code",
   "execution_count": 6,
   "id": "4b22f1fa",
   "metadata": {},
   "outputs": [
    {
     "name": "stdout",
     "output_type": "stream",
     "text": [
      "0  is zero\n",
      "0  is zero\n",
      "Zero value not found 2\n",
      "0  is zero\n",
      "Zero value not found 4\n",
      "0  is zero\n"
     ]
    }
   ],
   "source": [
    "for index,item in enumerate(a):\n",
    "    if item>0:\n",
    "        print('Zero value not found',index)\n",
    "    else:\n",
    "        print(item,\" is zero\")"
   ]
  },
  {
   "cell_type": "markdown",
   "id": "9cc1e253",
   "metadata": {},
   "source": [
    "3. Write a NumPy program to test a given array element-wise for finiteness (not infinity or not a Number)."
   ]
  },
  {
   "cell_type": "code",
   "execution_count": 7,
   "id": "bbee857e",
   "metadata": {},
   "outputs": [],
   "source": [
    "a = np.array([1, 0, np.nan, np.inf])"
   ]
  },
  {
   "cell_type": "code",
   "execution_count": 8,
   "id": "f774525b",
   "metadata": {},
   "outputs": [
    {
     "name": "stdout",
     "output_type": "stream",
     "text": [
      "Original array\n",
      "[ 1.  0. nan inf]\n",
      "Test a given array element-wise for finiteness :\n",
      "[ True  True False False]\n"
     ]
    }
   ],
   "source": [
    "print(\"Original array\")\n",
    "print(a)\n",
    "print(\"Test a given array element-wise for finiteness :\")\n",
    "print(np.isfinite(a))"
   ]
  },
  {
   "cell_type": "markdown",
   "id": "2e0504bd",
   "metadata": {},
   "source": [
    "4. Write a NumPy program to test element-wise for positive or negative infinity."
   ]
  },
  {
   "cell_type": "code",
   "execution_count": 9,
   "id": "ea49304c",
   "metadata": {},
   "outputs": [
    {
     "name": "stdout",
     "output_type": "stream",
     "text": [
      "Original array\n",
      "[ 1.  0. nan inf]\n",
      "Test element-wise for positive or negative infinity:\n",
      "[False False False  True]\n"
     ]
    }
   ],
   "source": [
    "print(\"Original array\")\n",
    "print(a)\n",
    "print(\"Test element-wise for positive or negative infinity:\")\n",
    "print(np.isinf(a))"
   ]
  },
  {
   "cell_type": "markdown",
   "id": "9161c515",
   "metadata": {},
   "source": [
    "5. Write a NumPy program to test element-wise for NaN of a given array."
   ]
  },
  {
   "cell_type": "code",
   "execution_count": 10,
   "id": "f6cf147b",
   "metadata": {},
   "outputs": [
    {
     "name": "stdout",
     "output_type": "stream",
     "text": [
      "Original array\n",
      "[ 1.  0. nan inf]\n",
      "Test element-wise for NaN:\n",
      "[False False  True False]\n"
     ]
    }
   ],
   "source": [
    "print(\"Original array\")\n",
    "print(a)\n",
    "print(\"Test element-wise for NaN:\")\n",
    "print(np.isnan(a))"
   ]
  },
  {
   "cell_type": "markdown",
   "id": "19d7bf77",
   "metadata": {},
   "source": [
    "6. Write a NumPy program to test element-wise for complex number, real number of a given array. Also test whether a given number is a scalar type or not."
   ]
  },
  {
   "cell_type": "code",
   "execution_count": 16,
   "id": "790c702f",
   "metadata": {},
   "outputs": [
    {
     "data": {
      "text/plain": [
       "array([2. +1.j, 1. +0.j, 2.5+0.j, 4. +0.j, 2. +0.j, 0. +3.j])"
      ]
     },
     "execution_count": 16,
     "metadata": {},
     "output_type": "execute_result"
    }
   ],
   "source": [
    "a = np.array([2+1j, 1+0j, 2.5, 4, 2, 3j])\n",
    "a"
   ]
  },
  {
   "cell_type": "code",
   "execution_count": 17,
   "id": "beab3c02",
   "metadata": {},
   "outputs": [
    {
     "name": "stdout",
     "output_type": "stream",
     "text": [
      "Complex number:\n",
      "[ True False False False False  True]\n"
     ]
    }
   ],
   "source": [
    "print(\"Complex number:\")\n",
    "print(np.iscomplex(a))"
   ]
  },
  {
   "cell_type": "code",
   "execution_count": 18,
   "id": "4b93c232",
   "metadata": {},
   "outputs": [
    {
     "name": "stdout",
     "output_type": "stream",
     "text": [
      "Real number:\n",
      "[False  True  True  True  True False]\n"
     ]
    }
   ],
   "source": [
    "print(\"Real number:\")\n",
    "print(np.isreal(a))\n"
   ]
  },
  {
   "cell_type": "code",
   "execution_count": 20,
   "id": "5a206654",
   "metadata": {},
   "outputs": [
    {
     "name": "stdout",
     "output_type": "stream",
     "text": [
      "Scalar type:\n",
      "True\n",
      "False\n"
     ]
    }
   ],
   "source": [
    "print(\"Scalar type:\")\n",
    "print(np.isscalar(2.5))\n",
    "print(np.isscalar([2.5]))"
   ]
  },
  {
   "cell_type": "markdown",
   "id": "d144f191",
   "metadata": {},
   "source": [
    "7. Write a NumPy program to test whether two arrays are element-wise equal within a tolerance."
   ]
  },
  {
   "cell_type": "code",
   "execution_count": 21,
   "id": "61c57bdd",
   "metadata": {},
   "outputs": [
    {
     "name": "stdout",
     "output_type": "stream",
     "text": [
      "False\n",
      "True\n",
      "False\n",
      "False\n",
      "True\n"
     ]
    }
   ],
   "source": [
    "print(np.allclose([1e10,1e-7], [1.00001e10,1e-8]))\n",
    "print(np.allclose([1e10,1e-8], [1.00001e10,1e-9]))\n",
    "print(np.allclose([1e10,1e-8], [1.0001e10,1e-9]))\n",
    "print(np.allclose([1.0, np.nan], [1.0, np.nan]))\n",
    "print(np.allclose([1.0, np.nan], [1.0, np.nan], equal_nan=True))"
   ]
  },
  {
   "cell_type": "markdown",
   "id": "4811c39d",
   "metadata": {},
   "source": [
    "8. Write a NumPy program to create an element-wise comparison (greater, greater_equal, less and less_equal) of two given arrays."
   ]
  },
  {
   "cell_type": "code",
   "execution_count": 22,
   "id": "82f7c6b0",
   "metadata": {},
   "outputs": [
    {
     "name": "stdout",
     "output_type": "stream",
     "text": [
      "[4 7]\n",
      "[4 9]\n"
     ]
    }
   ],
   "source": [
    "x = np.array([4, 7])\n",
    "y = np.array([4, 9])\n",
    "print(x)\n",
    "print(y)"
   ]
  },
  {
   "cell_type": "code",
   "execution_count": 23,
   "id": "73f47782",
   "metadata": {},
   "outputs": [
    {
     "name": "stdout",
     "output_type": "stream",
     "text": [
      "Comparison - greater\n",
      "[False False]\n",
      "Comparison - greater_equal\n",
      "[ True False]\n",
      "Comparison - less\n",
      "[False  True]\n",
      "Comparison - less_equal\n",
      "[ True  True]\n"
     ]
    }
   ],
   "source": [
    "print(\"Comparison - greater\")\n",
    "print(np.greater(x, y))\n",
    "print(\"Comparison - greater_equal\")\n",
    "print(np.greater_equal(x, y))\n",
    "print(\"Comparison - less\")\n",
    "print(np.less(x, y))\n",
    "print(\"Comparison - less_equal\")\n",
    "print(np.less_equal(x, y))"
   ]
  },
  {
   "cell_type": "markdown",
   "id": "6f21aa4c",
   "metadata": {},
   "source": [
    "9. Write a NumPy program to create an element-wise comparison (equal, equal within a tolerance) of two given arrays."
   ]
  },
  {
   "cell_type": "code",
   "execution_count": 44,
   "id": "59295214",
   "metadata": {},
   "outputs": [
    {
     "name": "stdout",
     "output_type": "stream",
     "text": [
      "[  4  21  80  90 100 -15  20 -10  60 100]\n",
      "[  4.       21.       80.       90.      100.      -15.00001  20.\n",
      " -10.       60.      100.     ]\n"
     ]
    }
   ],
   "source": [
    "x = np.array([4, 21, 80, 90, 100, -15, 20, -10, 60, 32])\n",
    "y = np.array([4, 21, 80, 90, 100, -15.00001, 20, -10, 60, 32])\n",
    "print(x)\n",
    "print(y)"
   ]
  },
  {
   "cell_type": "code",
   "execution_count": 45,
   "id": "ab8335dc",
   "metadata": {},
   "outputs": [
    {
     "name": "stdout",
     "output_type": "stream",
     "text": [
      "Comparison - equal:\n",
      "[ True  True  True  True  True False  True  True  True  True]\n"
     ]
    }
   ],
   "source": [
    "print(\"Comparison - equal:\")\n",
    "print(np.equal(x, y))"
   ]
  },
  {
   "cell_type": "code",
   "execution_count": 46,
   "id": "34331aa8",
   "metadata": {},
   "outputs": [
    {
     "name": "stdout",
     "output_type": "stream",
     "text": [
      "Comparison - equal within a tolerance:\n",
      "True\n"
     ]
    }
   ],
   "source": [
    "print(\"Comparison - equal within a tolerance:\")\n",
    "print(np.allclose(x, y))"
   ]
  },
  {
   "cell_type": "markdown",
   "id": "7747a89d",
   "metadata": {},
   "source": [
    "10. Write a NumPy program to create an array with the values 1, 7, 13, 105 and determine the size of the memory occupied by the array."
   ]
  },
  {
   "cell_type": "code",
   "execution_count": 47,
   "id": "d9ab162d",
   "metadata": {},
   "outputs": [
    {
     "data": {
      "text/plain": [
       "array([  1,   7,  13, 105])"
      ]
     },
     "execution_count": 47,
     "metadata": {},
     "output_type": "execute_result"
    }
   ],
   "source": [
    "x = np.array([1, 7, 13, 105])\n",
    "x"
   ]
  },
  {
   "cell_type": "code",
   "execution_count": 49,
   "id": "69440c12",
   "metadata": {},
   "outputs": [
    {
     "name": "stdout",
     "output_type": "stream",
     "text": [
      "16 bytes\n"
     ]
    }
   ],
   "source": [
    "print(\"%d bytes\" % (x.size * x.itemsize))"
   ]
  }
 ],
 "metadata": {
  "kernelspec": {
   "display_name": "Python 3",
   "language": "python",
   "name": "python3"
  },
  "language_info": {
   "codemirror_mode": {
    "name": "ipython",
    "version": 3
   },
   "file_extension": ".py",
   "mimetype": "text/x-python",
   "name": "python",
   "nbconvert_exporter": "python",
   "pygments_lexer": "ipython3",
   "version": "3.8.8"
  }
 },
 "nbformat": 4,
 "nbformat_minor": 5
}
